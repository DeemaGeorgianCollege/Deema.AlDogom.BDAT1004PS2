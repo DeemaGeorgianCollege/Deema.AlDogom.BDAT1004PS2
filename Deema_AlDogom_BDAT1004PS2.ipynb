{
 "cells": [
  {
   "cell_type": "markdown",
   "id": "73c32307",
   "metadata": {},
   "source": [
    "Question 1\n",
    "Consider the following Python module:\n",
    "a = 0 \n",
    "def b():\n",
    "global a\n",
    "a = c(a)\n",
    "def c(a):\n",
    "return a + 2\n",
    "After importing the module into the interpreter, you execute:\n",
    ">>> b()\n",
    ">>> b()\n",
    ">>> b()\n",
    ">>> a\n",
    "What value is displayed when the last expression (a) is evaluated? Explain your Banswer by indicating what happens in every executed statement.\n"
   ]
  },
  {
   "cell_type": "code",
   "execution_count": 2,
   "id": "644d7d35",
   "metadata": {},
   "outputs": [],
   "source": [
    "a = 0 \n",
    "def b():\n",
    "    global a\n",
    "    a = c(a)\n",
    "def c(a):\n",
    "    return a + 2"
   ]
  },
  {
   "cell_type": "code",
   "execution_count": 3,
   "id": "b4220bf9",
   "metadata": {},
   "outputs": [
    {
     "data": {
      "text/plain": [
       "6"
      ]
     },
     "execution_count": 3,
     "metadata": {},
     "output_type": "execute_result"
    }
   ],
   "source": [
    "b()\n",
    "b()\n",
    "b()\n",
    "a"
   ]
  },
  {
   "cell_type": "markdown",
   "id": "d0469d37",
   "metadata": {},
   "source": [
    "Question 2\n",
    "Function fileLength(), given to you, takes the name of a file as input and returns \n",
    "the length of the file:\n",
    ">>> fileLength('midterm.py') \n",
    "284\n",
    ">>> fileLength('idterm.py') \n",
    "Traceback (most recent call last):\n",
    "File \"<pyshell#34>\", line 1, in <module> \n",
    "fileLength('idterm.py')\n",
    "File \"/Users/me/midterm.py\", line 3, in fileLength \n",
    "infile = open(filename)\n",
    "FileNotFoundError: [Errno 2] No such file or directory: \n",
    "'idterm.py'\n",
    "As shown above, if the file cannot be found by the interpreter or if it cannot be read \n",
    "as a text file, an exception will be raised. Modify function fileLength() so that a \n",
    "friendly message is printed instead:\n",
    ">>> fileLength('midterm.py') \n",
    "358\n",
    ">>> fileLength('idterm.py') \n",
    "File idterm.py not found."
   ]
  },
  {
   "cell_type": "code",
   "execution_count": 14,
   "id": "b79ca26d",
   "metadata": {},
   "outputs": [],
   "source": [
    "def fileLength(fileName):\n",
    "    try:\n",
    "        file = open(fileName)\n",
    "        contents = file.read()\n",
    "        file.close()\n",
    "        print(len(contents))\n",
    "    except FileNotFoundError:\n",
    "        print('File '+ fileName +' not found')"
   ]
  },
  {
   "cell_type": "code",
   "execution_count": 16,
   "id": "65ce0efe",
   "metadata": {},
   "outputs": [
    {
     "name": "stdout",
     "output_type": "stream",
     "text": [
      "5345\n"
     ]
    }
   ],
   "source": [
    "fileLength('words.txt')"
   ]
  },
  {
   "cell_type": "code",
   "execution_count": 17,
   "id": "cc5b62a2",
   "metadata": {},
   "outputs": [
    {
     "name": "stdout",
     "output_type": "stream",
     "text": [
      "File xxx.txt not found\n"
     ]
    }
   ],
   "source": [
    "fileLength('xxx.txt')"
   ]
  },
  {
   "cell_type": "markdown",
   "id": "c7e786f1",
   "metadata": {},
   "source": [
    "Q3\n",
    "Write a class named Marsupial that can be used as shown below:"
   ]
  },
  {
   "cell_type": "code",
   "execution_count": 37,
   "id": "3afde3b9",
   "metadata": {},
   "outputs": [],
   "source": [
    "class Marsupial:\n",
    "    \n",
    "    def __init__(self):\n",
    "        self.list = []\n",
    "        \n",
    "    # insert an element in the list\n",
    "    def put_in_pouch(self, data):\n",
    "        self.list.append(data)\n",
    "        \n",
    "    # print out content\n",
    "    def pouch_contents(self):\n",
    "        return self.list\n"
   ]
  },
  {
   "cell_type": "code",
   "execution_count": 38,
   "id": "d9807b9b",
   "metadata": {},
   "outputs": [],
   "source": [
    "m = Marsupial()"
   ]
  },
  {
   "cell_type": "code",
   "execution_count": 39,
   "id": "177c2a3b",
   "metadata": {},
   "outputs": [],
   "source": [
    "m.put_in_pouch('doll')"
   ]
  },
  {
   "cell_type": "code",
   "execution_count": 40,
   "id": "b1a38af5",
   "metadata": {},
   "outputs": [],
   "source": [
    "m.put_in_pouch('firetruck')"
   ]
  },
  {
   "cell_type": "code",
   "execution_count": 41,
   "id": "86b1e94e",
   "metadata": {},
   "outputs": [],
   "source": [
    "m.put_in_pouch('kitten')"
   ]
  },
  {
   "cell_type": "code",
   "execution_count": 42,
   "id": "6b5fdd37",
   "metadata": {},
   "outputs": [
    {
     "data": {
      "text/plain": [
       "['doll', 'firetruck', 'kitten']"
      ]
     },
     "execution_count": 42,
     "metadata": {},
     "output_type": "execute_result"
    }
   ],
   "source": [
    "m.pouch_contents()\n"
   ]
  },
  {
   "cell_type": "markdown",
   "id": "d41550ea",
   "metadata": {},
   "source": [
    "Now write a class named Kangaroo as a subclass of Marsupial that inherits all the \n",
    "attributes of Marsupial"
   ]
  },
  {
   "cell_type": "code",
   "execution_count": 50,
   "id": "64cd0533",
   "metadata": {},
   "outputs": [],
   "source": [
    "class Kangaroo(Marsupial):\n",
    "\n",
    "    def __init__(self, xcoord, ycoord):\n",
    "        'initialize coordinates to (xcoord, ycoord)'\n",
    "        super().__init__()\n",
    "        self.x = xcoord\n",
    "        self.y = ycoord\n",
    "        \n",
    "    def jump(self, dx, dy):\n",
    "        'change the x and y coordinates by dx and dy'\n",
    "        self.x += dx\n",
    "        self.y += dy\n",
    "        \n",
    "    def __str__(self):\n",
    "        return f\"I am a Kangaroo located at coordinates ({self.x},{self.y})\""
   ]
  },
  {
   "cell_type": "code",
   "execution_count": 51,
   "id": "8ff0254f",
   "metadata": {},
   "outputs": [],
   "source": [
    "k = Kangaroo(0,0)"
   ]
  },
  {
   "cell_type": "code",
   "execution_count": 52,
   "id": "12919ece",
   "metadata": {},
   "outputs": [
    {
     "name": "stdout",
     "output_type": "stream",
     "text": [
      "I am a Kangaroo located at coordinates (0,0)\n"
     ]
    }
   ],
   "source": [
    "print(k)"
   ]
  },
  {
   "cell_type": "code",
   "execution_count": 53,
   "id": "32325429",
   "metadata": {},
   "outputs": [],
   "source": [
    "k.put_in_pouch('doll')"
   ]
  },
  {
   "cell_type": "code",
   "execution_count": 54,
   "id": "a1066060",
   "metadata": {},
   "outputs": [],
   "source": [
    "k.put_in_pouch('firetruck')"
   ]
  },
  {
   "cell_type": "code",
   "execution_count": 55,
   "id": "ab3b6da7",
   "metadata": {},
   "outputs": [],
   "source": [
    "k.put_in_pouch('kitten')"
   ]
  },
  {
   "cell_type": "code",
   "execution_count": 56,
   "id": "d78b0c2b",
   "metadata": {},
   "outputs": [
    {
     "data": {
      "text/plain": [
       "['doll', 'firetruck', 'kitten']"
      ]
     },
     "execution_count": 56,
     "metadata": {},
     "output_type": "execute_result"
    }
   ],
   "source": [
    "k.pouch_contents() "
   ]
  },
  {
   "cell_type": "code",
   "execution_count": 57,
   "id": "bac5d1f8",
   "metadata": {},
   "outputs": [],
   "source": [
    "k.jump(1,0)"
   ]
  },
  {
   "cell_type": "code",
   "execution_count": 58,
   "id": "229e438d",
   "metadata": {},
   "outputs": [],
   "source": [
    "k.jump(1,0)"
   ]
  },
  {
   "cell_type": "code",
   "execution_count": 59,
   "id": "27d46856",
   "metadata": {},
   "outputs": [],
   "source": [
    "k.jump(1,0)"
   ]
  },
  {
   "cell_type": "code",
   "execution_count": 60,
   "id": "8e9ad9da",
   "metadata": {},
   "outputs": [
    {
     "name": "stdout",
     "output_type": "stream",
     "text": [
      "I am a Kangaroo located at coordinates (3,0)\n"
     ]
    }
   ],
   "source": [
    "print(k)"
   ]
  },
  {
   "cell_type": "markdown",
   "id": "aa2a82dc",
   "metadata": {},
   "source": [
    "Question 4\n",
    "Write function collatz() that takes a positive integer x as input and prints the \n",
    "Collatz sequence starting at x. A Collatz sequence is obtained by repeatedly applying \n",
    "this rule to the previous number x in the sequence:\n",
    "x = {\n",
    "𝑥/2 𝑖𝑓 𝑥 𝑖𝑠 𝑒𝑣𝑒𝑛3𝑥\n",
    "+1 𝑖𝑓 𝑥 𝑖𝑠 𝑜𝑑𝑑\n",
    "Your function should stop when the sequence gets to number 1. Your \n",
    "implementation must be recursive, without any loops."
   ]
  },
  {
   "cell_type": "code",
   "execution_count": 12,
   "id": "432a22c4",
   "metadata": {},
   "outputs": [],
   "source": [
    "def collatz(n):\n",
    "    collatzlist=list() #list to store the values of sequence\n",
    "    \n",
    "    while (n!=1):\n",
    "        collatzlist.append(n) \n",
    "        #if n is even\n",
    "        if (n%2==0) :\n",
    "            n=n//2\n",
    "        else:\n",
    "          #if n is odd\n",
    "            n=(3*n)+1\n",
    "    collatzlist.append(1)  #print 1 in the end   \n",
    "    l=len(collatzlist)\n",
    "\n",
    "    for i in range(0,l):\n",
    "      print(collatzlist[i])"
   ]
  },
  {
   "cell_type": "code",
   "execution_count": 15,
   "id": "f8b88dc6",
   "metadata": {},
   "outputs": [
    {
     "name": "stdout",
     "output_type": "stream",
     "text": [
      "1\n"
     ]
    }
   ],
   "source": [
    "collatz(1)"
   ]
  },
  {
   "cell_type": "code",
   "execution_count": 16,
   "id": "40c007d5",
   "metadata": {},
   "outputs": [
    {
     "name": "stdout",
     "output_type": "stream",
     "text": [
      "10\n",
      "5\n",
      "16\n",
      "8\n",
      "4\n",
      "2\n",
      "1\n"
     ]
    }
   ],
   "source": [
    "collatz(10)"
   ]
  },
  {
   "cell_type": "markdown",
   "id": "38d9493f",
   "metadata": {},
   "source": [
    "Question 5\n",
    "Write a recursive method binary() that takes a non-negative \n",
    "integer n and prints the binary representation of integer n."
   ]
  },
  {
   "cell_type": "code",
   "execution_count": 31,
   "id": "c5264a8f",
   "metadata": {},
   "outputs": [],
   "source": [
    "def binary(n):\n",
    "    if n < 2:\n",
    "        print (n)\n",
    "    else:\n",
    "        binary(n // 2)\n",
    "        print (n % 2)\n"
   ]
  },
  {
   "cell_type": "code",
   "execution_count": 25,
   "id": "58b2407e",
   "metadata": {},
   "outputs": [
    {
     "name": "stdout",
     "output_type": "stream",
     "text": [
      "0\n"
     ]
    }
   ],
   "source": [
    "binary(0)"
   ]
  },
  {
   "cell_type": "code",
   "execution_count": 26,
   "id": "ab2997d3",
   "metadata": {},
   "outputs": [
    {
     "name": "stdout",
     "output_type": "stream",
     "text": [
      "1\n"
     ]
    }
   ],
   "source": [
    "binary(1)"
   ]
  },
  {
   "cell_type": "code",
   "execution_count": 32,
   "id": "09dec5a0",
   "metadata": {},
   "outputs": [
    {
     "name": "stdout",
     "output_type": "stream",
     "text": [
      "1\n",
      "1\n"
     ]
    }
   ],
   "source": [
    "binary(3)"
   ]
  },
  {
   "cell_type": "code",
   "execution_count": 33,
   "id": "4892731b",
   "metadata": {},
   "outputs": [
    {
     "name": "stdout",
     "output_type": "stream",
     "text": [
      "1\n",
      "0\n",
      "0\n",
      "1\n"
     ]
    }
   ],
   "source": [
    "binary(9) "
   ]
  },
  {
   "cell_type": "markdown",
   "id": "12c7422b",
   "metadata": {},
   "source": [
    "Question 6\n",
    "Implement a class named HeadingParser that can be used to parse an HTML \n",
    "document, and retrieve and print all the headings in the document. You should \n",
    "implement your class as a subclass of HTMLParser, defined in Standard Library \n",
    "module html.parser. When fed a string containing HTML code, your class should \n",
    "print the headings, one per line and in the order in which they appear in the \n",
    "document.Each heading should be indented asfollows: an h1 heading should have \n",
    "indentation 0, and h2 heading should have indentation 1, etc. Test your \n",
    "implementation using w3c.html."
   ]
  },
  {
   "cell_type": "code",
   "execution_count": 63,
   "id": "84f63599",
   "metadata": {},
   "outputs": [],
   "source": [
    "from html.parser import HTMLParser\n",
    "class HeadingParser(HTMLParser):\n",
    "    def __init__(self):\n",
    "        super().__init__()\n",
    "        self.indentation = 0\n",
    "        self.headings = []\n",
    "        \n",
    "    def handle_starttag(self, tag, attrs):\n",
    "        if tag in ['h1', 'h2', 'h3', 'h4', 'h5', 'h6']:\n",
    "            self.headings.append((self.indentation, tag))\n",
    "            \n",
    "    def handle_endtag(self, tag):\n",
    "        pass\n",
    "    \n",
    "    def handle_data(self, data):\n",
    "        if data.strip() and self.headings:\n",
    "            indentation, tag = self.headings[-1]\n",
    "            print(' ' * indentation + data)\n",
    "            \n",
    "    def handle_entityref(self, name):\n",
    "        pass\n",
    "    \n",
    "    def handle_charref(self, name):\n",
    "        pass\n",
    "    \n",
    "    def handle_comment(self, data):\n",
    "        pass\n",
    "    \n",
    "    def handle_decl(self, decl):\n",
    "        pass\n",
    "    \n",
    "    def handle_pi(self, data):\n",
    "        pass"
   ]
  },
  {
   "cell_type": "code",
   "execution_count": 64,
   "id": "14abe872",
   "metadata": {},
   "outputs": [],
   "source": [
    "infile = open('w3c.html')"
   ]
  },
  {
   "cell_type": "code",
   "execution_count": 65,
   "id": "dcf6aab5",
   "metadata": {},
   "outputs": [],
   "source": [
    "content = infile.read()"
   ]
  },
  {
   "cell_type": "code",
   "execution_count": 66,
   "id": "3a68c7f5",
   "metadata": {},
   "outputs": [],
   "source": [
    "infile.close()"
   ]
  },
  {
   "cell_type": "code",
   "execution_count": 67,
   "id": "54aece01",
   "metadata": {},
   "outputs": [],
   "source": [
    "hp = HeadingParser()"
   ]
  },
  {
   "cell_type": "code",
   "execution_count": 68,
   "id": "21031204",
   "metadata": {},
   "outputs": [
    {
     "name": "stdout",
     "output_type": "stream",
     "text": [
      "W3C Mission\n",
      "Principles\n"
     ]
    }
   ],
   "source": [
    "hp.feed(content)"
   ]
  },
  {
   "cell_type": "markdown",
   "id": "ca25e736",
   "metadata": {},
   "source": [
    "Question 7\n",
    "Implement recursive function webdir() that takes as input: a URL (as a string) and \n",
    "non-negative integers depth and indent. Your function should visit every web \n",
    "page reachable from the starting URL web page in depth clicks or less, and print \n",
    "each web page's URL. As shown below, indentation, specified by indent, should \n",
    "be used to indicate the depth of a URL."
   ]
  },
  {
   "cell_type": "code",
   "execution_count": 69,
   "id": "dadb451d",
   "metadata": {},
   "outputs": [],
   "source": [
    "from urllib.request import urlopen\n",
    "from urllib.error import HTTPError\n",
    "from urllib.parse import urlparse, urljoin\n",
    "from html.parser import HTMLParser\n",
    "\n",
    "class LinkParser(HTMLParser):\n",
    "    def __init__(self, base_url):\n",
    "        super().__init__()\n",
    "        self.base_url = base_url\n",
    "        self.links = []\n",
    "    def handle_starttag(self, tag, attrs):\n",
    "        if tag == 'a':\n",
    "            for attr, value in attrs:\n",
    "                if attr == 'href':\n",
    "                    url = urljoin(self.base_url, value)\n",
    "                    self.links.append(url)\n",
    "def webdir(url, depth, indent):\n",
    "    print(' ' * indent + url)\n",
    "    if depth == 0:\n",
    "        return\n",
    "    try:\n",
    "        response = urlopen(url)\n",
    "    except HTTPError:\n",
    "        return\n",
    "    content = response.read().decode()\n",
    "    parser = LinkParser(url)\n",
    "    parser.feed(content)\n",
    "    for link in parser.links:\n",
    "        webdir(link, depth - 1, indent + 4)"
   ]
  },
  {
   "cell_type": "code",
   "execution_count": 70,
   "id": "de3f3f33",
   "metadata": {},
   "outputs": [
    {
     "name": "stdout",
     "output_type": "stream",
     "text": [
      "http://reed.cs.depaul.edu/lperkovic/csc242/test1.html\n"
     ]
    }
   ],
   "source": [
    "webdir('http://reed.cs.depaul.edu/lperkovic/csc242/test1.html', 2, 0)"
   ]
  },
  {
   "cell_type": "markdown",
   "id": "834e9899",
   "metadata": {},
   "source": [
    "Question 8\n",
    "Write SQL queries on the below database table that return:"
   ]
  },
  {
   "cell_type": "code",
   "execution_count": 69,
   "id": "593880f0",
   "metadata": {},
   "outputs": [],
   "source": [
    "# a) All the temperature data\n",
    "SELECT * FROM table"
   ]
  },
  {
   "cell_type": "code",
   "execution_count": null,
   "id": "13313ac2",
   "metadata": {},
   "outputs": [],
   "source": [
    "#b) All the cities, but without repetition\n",
    "SELECT DISTINCT City from table"
   ]
  },
  {
   "cell_type": "code",
   "execution_count": null,
   "id": "cbb03e5b",
   "metadata": {},
   "outputs": [],
   "source": [
    "#c) All the records for India.\n",
    "SELECT * FROM table WHERE Country = 'India'"
   ]
  },
  {
   "cell_type": "code",
   "execution_count": null,
   "id": "41d988da",
   "metadata": {},
   "outputs": [],
   "source": [
    "#d) All the Fall records.\n",
    "SELECT * FROM table WHERE Season = 'Fall'"
   ]
  },
  {
   "cell_type": "code",
   "execution_count": null,
   "id": "cf19e8f6",
   "metadata": {},
   "outputs": [],
   "source": [
    "#e) The city, country, and season for which the average rainfall is between 200 and 400 millimeters.\n",
    "SELECT City, Country, Season FROM table HAVING AVG(Rainfall) BETWEEN 200 AND 400"
   ]
  },
  {
   "cell_type": "code",
   "execution_count": null,
   "id": "2dade755",
   "metadata": {},
   "outputs": [],
   "source": [
    "#f) The city and country for which the average Fall temperature is above 20 degrees, in increasing temperature order.\n",
    "SELECT City, Country FROM table WHERE Season = 'Fall' HAVING AVG(Temperature) > 20 ORDER BY Temperature ASC"
   ]
  },
  {
   "cell_type": "code",
   "execution_count": null,
   "id": "f67f1c7a",
   "metadata": {},
   "outputs": [],
   "source": [
    "#g) The total annual rainfall for Cairo\n",
    "SELECT SUM(Rainfall) FROM table WHERE City = 'Cairo'"
   ]
  },
  {
   "cell_type": "code",
   "execution_count": null,
   "id": "715e4df9",
   "metadata": {},
   "outputs": [],
   "source": [
    "#The total rainfall for each season.\n",
    "SELECT Country, Season, SUM(Rainfall) FROM table GROUP BY Country, Season"
   ]
  },
  {
   "cell_type": "markdown",
   "id": "e275e4c1",
   "metadata": {},
   "source": [
    "Question 9\n",
    ". Suppose list words is defined as follows:\n",
    ">>> words = ['The', 'quick', 'brown', 'fox', 'jumps', 'over', 'the', 'lazy', 'dog']\n",
    "Write list comprehension expressions that use list words and generate the following \n",
    "lists:"
   ]
  },
  {
   "cell_type": "code",
   "execution_count": null,
   "id": "0a169941",
   "metadata": {},
   "outputs": [],
   "source": [
    "#a) ['THE', 'QUICK', 'BROWN', 'FOX', 'JUMPS', 'OVER', 'THE', 'LAZY', 'DOG']\n",
    "\n",
    "uppercase_words = [word.upper() for word in words]"
   ]
  },
  {
   "cell_type": "code",
   "execution_count": null,
   "id": "78909c57",
   "metadata": {},
   "outputs": [],
   "source": [
    "#b) ['the', 'quick', 'brown', 'fox', 'jumps', 'over', 'the', 'lazy', 'dog']\n",
    "\n",
    "lowercase_words = [word.lower() for word in words]"
   ]
  },
  {
   "cell_type": "code",
   "execution_count": null,
   "id": "d5a8ff9e",
   "metadata": {},
   "outputs": [],
   "source": [
    "#c) [3, 5, 5, 3, 5, 4, 3, 4, 3] (the list of lengths of words in list words).\n",
    "\n",
    "word_lengths = [len(word) for word in words]"
   ]
  },
  {
   "cell_type": "code",
   "execution_count": null,
   "id": "3a3f1043",
   "metadata": {},
   "outputs": [],
   "source": [
    "#d) [['THE', 'the', 3], ['QUICK', 'quick', 5], ['BROWN','brown', 5], ['FOX', 'fox', 3], ['JUMPS', 'jumps', 5],\n",
    "#['OVER', 'over', 4], ['THE', 'the', 3], ['LAZY', 'lazy',4], ['DOG', 'dog', 3]]\n",
    "#(the list containing a list for every word of list words, where each list contains the word in uppercase and lowercase \n",
    "#and the length of the word.)\n",
    "\n",
    "word_info = [[word.upper(), word.lower(), len(word)] for word in words]"
   ]
  },
  {
   "cell_type": "code",
   "execution_count": null,
   "id": "91df387b",
   "metadata": {},
   "outputs": [],
   "source": [
    "#e) ['The', 'quick', 'brown', 'fox', 'jumps', 'over', 'the', 'lazy', 'dog'] \n",
    "#(the list of words in list words containing 4 or more characters.)\n",
    "\n",
    "long_words = [word for word in words if len(word) >= 4]"
   ]
  }
 ],
 "metadata": {
  "kernelspec": {
   "display_name": "Python 3 (ipykernel)",
   "language": "python",
   "name": "python3"
  },
  "language_info": {
   "codemirror_mode": {
    "name": "ipython",
    "version": 3
   },
   "file_extension": ".py",
   "mimetype": "text/x-python",
   "name": "python",
   "nbconvert_exporter": "python",
   "pygments_lexer": "ipython3",
   "version": "3.9.13"
  }
 },
 "nbformat": 4,
 "nbformat_minor": 5
}
